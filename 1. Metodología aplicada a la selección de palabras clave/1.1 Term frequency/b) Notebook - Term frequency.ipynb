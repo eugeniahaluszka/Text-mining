{
 "cells": [
  {
   "cell_type": "markdown",
   "id": "ddc94c8f",
   "metadata": {},
   "source": [
    "## Selección de keywords aplicando Term Frequency"
   ]
  },
  {
   "cell_type": "code",
   "execution_count": 1,
   "id": "8d59b516",
   "metadata": {},
   "outputs": [],
   "source": [
    "#Se importan las librerías que serán utilizadas a lo largo de los análisis\n",
    "from pymongo import MongoClient\n",
    "import pandas as pd\n",
    "import spacy\n",
    "import re\n",
    "import matplotlib.pyplot as plt\n",
    "from matplotlib import style\n",
    "import seaborn as sns\n",
    "import numpy as np"
   ]
  },
  {
   "cell_type": "markdown",
   "id": "6f667983",
   "metadata": {},
   "source": [
    "El dataset que se va a utilizar contiene los tweets que fueron generados por los usuarios de la red social Twitter y se guardaron en una base de datos no relacional (MongoDB). MongoDB almacena datos en documentos flexibles similares a JSON, con un formato denominado BSON. A continuación nos conectaremos con el servidor alojado en nuestra computadora particular y buscaremos el dataset y colecciones pertinentes."
   ]
  },
  {
   "cell_type": "code",
   "execution_count": 2,
   "id": "53264bcc",
   "metadata": {},
   "outputs": [],
   "source": [
    "client = MongoClient('localhost', port=27017)"
   ]
  },
  {
   "cell_type": "code",
   "execution_count": 3,
   "id": "6999e721",
   "metadata": {},
   "outputs": [
    {
     "name": "stdout",
     "output_type": "stream",
     "text": [
      "['admin', 'argentina', 'config', 'cordoba', 'keyword_obesidad', 'local', 'twitter_obesidad', 'twitter_obesidad_abril']\n"
     ]
    }
   ],
   "source": [
    "#para ver las bases que tengo en mongodb\n",
    "print(client.list_database_names())"
   ]
  },
  {
   "cell_type": "markdown",
   "id": "c68a159b",
   "metadata": {},
   "source": [
    "Primero se nombrará el dataset a utilizar bajo el nombre \"data\". El mismo contiene tweets que fueron recolectados durante el mes de mayo de 2021. Estos tweets fueron recolectados teniendo en cuenta palabras clave relacionadas a la temática de obesidad. Las mismas fueron obesidad, obeso y obesa, las cuales serán denominadas a partir de ahora como palabras semilla. "
   ]
  },
  {
   "cell_type": "code",
   "execution_count": 4,
   "id": "f72dd142",
   "metadata": {},
   "outputs": [
    {
     "name": "stdout",
     "output_type": "stream",
     "text": [
      "<bound method Database.collection_names of Database(MongoClient(host=['localhost:27017'], document_class=dict, tz_aware=False, connect=True), 'twitter_obesidad')>\n"
     ]
    }
   ],
   "source": [
    "db = client.twitter_obesidad\n",
    "print(db.collection_names)\n",
    "collection = db.mayo"
   ]
  },
  {
   "cell_type": "code",
   "execution_count": 5,
   "id": "c6436e5d",
   "metadata": {},
   "outputs": [],
   "source": [
    "#Se transforma en dataframe\n",
    "data = pd.DataFrame(list(collection.find()))"
   ]
  },
  {
   "cell_type": "markdown",
   "id": "f16720c6",
   "metadata": {},
   "source": [
    "Se decidió eliminar aquellos tweets en el dataset que tenían en la columna localidad algún país de habla hispana diferente a Argentina. Para ello los fuimos nombrando y eliminando. Si bien esto no descarta al 100% los tweets con localización en otros paises lo hicimos para controlar en la mayor medida la aparición de palabras que no son utilizadas en la jerga argentina.\n",
    "Luego, a partir del dataset \"data\", se generan 3 datasets denominados \"data_obeso\", \"data_obesa\" y \"data_obesidad\", donde cada uno contiene las palabras semillas: 'obeso', 'obesa' y 'obesidad', respectivamente. Este procedimiento se llevó a cabo con el objetivo de diferenciar cada una de estas palabras semilla para encontrar los términos más frecuentemente relacionados a cada una de ellas."
   ]
  },
  {
   "cell_type": "code",
   "execution_count": 6,
   "id": "026d8145",
   "metadata": {},
   "outputs": [
    {
     "name": "stdout",
     "output_type": "stream",
     "text": [
      "Tweets que forman el dataset incluyendo la palabra obeso: (2911, 10)\n",
      "---------------------------------------------------------\n",
      "Tweets que forman el dataset incluyendo la palabra obesa: (923, 10)\n",
      "---------------------------------------------------------\n",
      "Tweets que forman el dataset incluyendo la palabra obesidad: (3747, 10)\n"
     ]
    }
   ],
   "source": [
    "data = data.drop(data[data['location'].str.lower().str.contains('peru|perú|bolivia|paraguay|uruguay|ecuador|mexico\\\n",
    "|colombia|venezuela|brasil|chile|españa|spain|mejico|costa rica|puerto rico|guatemala\\\n",
    "|nicaragua|panama|panamá|méxico|europa|brazil|barcelona|barranquilla|madrid')==True].index)\n",
    "\n",
    "data_obeso = data[data['tweet'].str.lower().str.contains('obeso')==True]\n",
    "data_obesa = data[data['tweet'].str.lower().str.contains('obesa')==True]\n",
    "data_obesidad = data[data['tweet'].str.lower().str.contains('obesidad')==True]\n",
    "\n",
    "\n",
    "print('Tweets que forman el dataset incluyendo la palabra obeso:',(data_obeso.shape))\n",
    "print('---------------------------------------------------------')\n",
    "print('Tweets que forman el dataset incluyendo la palabra obesa:',(data_obesa.shape))\n",
    "print('---------------------------------------------------------')\n",
    "print('Tweets que forman el dataset incluyendo la palabra obesidad:',(data_obesidad.shape))\n"
   ]
  },
  {
   "cell_type": "code",
   "execution_count": 7,
   "id": "96f66692",
   "metadata": {},
   "outputs": [
    {
     "name": "stderr",
     "output_type": "stream",
     "text": [
      "C:\\Users\\Eugenia\\Miniconda3v1\\envs\\diplodatos\\lib\\site-packages\\ipykernel_launcher.py:2: SettingWithCopyWarning: \n",
      "A value is trying to be set on a copy of a slice from a DataFrame.\n",
      "Try using .loc[row_indexer,col_indexer] = value instead\n",
      "\n",
      "See the caveats in the documentation: https://pandas.pydata.org/pandas-docs/stable/user_guide/indexing.html#returning-a-view-versus-a-copy\n",
      "  \n",
      "C:\\Users\\Eugenia\\Miniconda3v1\\envs\\diplodatos\\lib\\site-packages\\ipykernel_launcher.py:3: SettingWithCopyWarning: \n",
      "A value is trying to be set on a copy of a slice from a DataFrame.\n",
      "Try using .loc[row_indexer,col_indexer] = value instead\n",
      "\n",
      "See the caveats in the documentation: https://pandas.pydata.org/pandas-docs/stable/user_guide/indexing.html#returning-a-view-versus-a-copy\n",
      "  This is separate from the ipykernel package so we can avoid doing imports until\n",
      "C:\\Users\\Eugenia\\Miniconda3v1\\envs\\diplodatos\\lib\\site-packages\\ipykernel_launcher.py:4: SettingWithCopyWarning: \n",
      "A value is trying to be set on a copy of a slice from a DataFrame.\n",
      "Try using .loc[row_indexer,col_indexer] = value instead\n",
      "\n",
      "See the caveats in the documentation: https://pandas.pydata.org/pandas-docs/stable/user_guide/indexing.html#returning-a-view-versus-a-copy\n",
      "  after removing the cwd from sys.path.\n"
     ]
    }
   ],
   "source": [
    "#Se crea una nueva variable para clasificar los datasets por temática y no confundirlos una vez que se unan los mismos.\n",
    "data_obesidad['tema'] = 'obesidad'\n",
    "data_obeso['tema'] = 'obeso'\n",
    "data_obesa['tema'] = 'obesa'"
   ]
  },
  {
   "cell_type": "markdown",
   "id": "24e67949",
   "metadata": {},
   "source": [
    "Ahora se procederá a realizar el preoprocesamiento del texto de los tweets, el cual consiste en eliminar los caracteres especiales, números, urls, usernames, entre otros. Acto seguido se tokenizarán los tweets y obtendrá un nuevo texto."
   ]
  },
  {
   "cell_type": "code",
   "execution_count": 8,
   "id": "fd383ae8",
   "metadata": {},
   "outputs": [
    {
     "name": "stdout",
     "output_type": "stream",
     "text": [
      "['mi', 'más', 'fácil', 'preguntale', 'él', 'rt', 'porqué', 'no', 'me', 'sorpr', 'su', 'voz', 'es', 'insoportable', 'su', 'cara', 'se', 'rt', 'reagann', 'analista', 'todos', 'hablan', 'rt', 'omega', 'con', 'los', 'ancianos', 'vacuna', 'rt', 'niños', 'adolescentes', 'jóven', 'todavía', 'no', 'me', 'tiene', 'sentido', 'como', 'un', 'secretario', 'lo', 'que', 'no', 'te', 'gusta', 'so', 'rt', 'los', 'obesos', 'conmebol', 'nos', 'man', 'name', 'tweet', 'length', 'dtype', 'object']\n"
     ]
    }
   ],
   "source": [
    "def limpiar_tokenizar(texto):\n",
    "\n",
    "    # Se convierte todo el texto a minúsculas\n",
    "    nuevo_texto = texto.lower()\n",
    "    # Eliminación de páginas web (palabras que empiezan por \"http\")\n",
    "    nuevo_texto = re.sub('http\\S+', ' ', nuevo_texto)\n",
    "    #Eliminación de los nombres de usuarios\n",
    "    nuevo_texto = re.sub('@[A-Za-z0-9]+', ' ', nuevo_texto)\n",
    "    # Eliminación de signos de puntuación\n",
    "    regex = '[\\\\!\\\\\"\\\\#\\\\$\\\\%\\\\&\\\\\\'\\\\(\\\\)\\\\*\\\\+\\\\,\\\\-\\\\.\\\\/\\\\:\\\\;\\\\<\\\\=\\\\>\\\\?\\\\@\\\\[\\\\\\\\\\\\]\\\\^_\\\\`\\\\{\\\\|\\\\}\\\\~]'\n",
    "    nuevo_texto = re.sub(regex , ' ', nuevo_texto)\n",
    "    # Eliminación de números\n",
    "    nuevo_texto = re.sub('\\d+', ' ', nuevo_texto)\n",
    "    # Eliminación de espacios en blanco múltiples\n",
    "    nuevo_texto = re.sub('\\\\s+', ' ', nuevo_texto)\n",
    "    # Tokenización por palabras individuales\n",
    "    nuevo_texto = nuevo_texto.split(sep = ' ')\n",
    "    # Eliminación de tokens con una longitud < 2\n",
    "    nuevo_texto = [token for token in nuevo_texto if len(token) > 1]\n",
    "    \n",
    "    return(nuevo_texto)\n",
    "\n",
    "print(limpiar_tokenizar(texto=str(data_obeso['tweet'])))"
   ]
  },
  {
   "cell_type": "code",
   "execution_count": 9,
   "id": "0817a941",
   "metadata": {},
   "outputs": [
    {
     "name": "stderr",
     "output_type": "stream",
     "text": [
      "C:\\Users\\Eugenia\\Miniconda3v1\\envs\\diplodatos\\lib\\site-packages\\ipykernel_launcher.py:3: SettingWithCopyWarning: \n",
      "A value is trying to be set on a copy of a slice from a DataFrame.\n",
      "Try using .loc[row_indexer,col_indexer] = value instead\n",
      "\n",
      "See the caveats in the documentation: https://pandas.pydata.org/pandas-docs/stable/user_guide/indexing.html#returning-a-view-versus-a-copy\n",
      "  This is separate from the ipykernel package so we can avoid doing imports until\n",
      "C:\\Users\\Eugenia\\Miniconda3v1\\envs\\diplodatos\\lib\\site-packages\\ipykernel_launcher.py:4: SettingWithCopyWarning: \n",
      "A value is trying to be set on a copy of a slice from a DataFrame.\n",
      "Try using .loc[row_indexer,col_indexer] = value instead\n",
      "\n",
      "See the caveats in the documentation: https://pandas.pydata.org/pandas-docs/stable/user_guide/indexing.html#returning-a-view-versus-a-copy\n",
      "  after removing the cwd from sys.path.\n",
      "C:\\Users\\Eugenia\\Miniconda3v1\\envs\\diplodatos\\lib\\site-packages\\ipykernel_launcher.py:5: SettingWithCopyWarning: \n",
      "A value is trying to be set on a copy of a slice from a DataFrame.\n",
      "Try using .loc[row_indexer,col_indexer] = value instead\n",
      "\n",
      "See the caveats in the documentation: https://pandas.pydata.org/pandas-docs/stable/user_guide/indexing.html#returning-a-view-versus-a-copy\n",
      "  \"\"\"\n"
     ]
    }
   ],
   "source": [
    "# Se aplica la función de limpieza y tokenización a cada tweet generando una nueva variable con el texto nuevo\n",
    "\n",
    "data_obeso['texto_tokenizado'] = data_obeso['tweet'].apply(lambda x: limpiar_tokenizar(x))\n",
    "data_obesa['texto_tokenizado'] = data_obesa['tweet'].apply(lambda x: limpiar_tokenizar(x))\n",
    "data_obesidad['texto_tokenizado'] = data_obesidad['tweet'].apply(lambda x: limpiar_tokenizar(x))"
   ]
  },
  {
   "cell_type": "code",
   "execution_count": 10,
   "id": "a0b544f1",
   "metadata": {},
   "outputs": [
    {
     "data": {
      "text/plain": [
       "(7581, 12)"
      ]
     },
     "execution_count": 10,
     "metadata": {},
     "output_type": "execute_result"
    }
   ],
   "source": [
    "# Se unen los dos dataframes en uno solo\n",
    "tweets = pd.concat([data_obeso, data_obesa, data_obesidad], ignore_index=True)\n",
    "tweets.shape"
   ]
  },
  {
   "cell_type": "markdown",
   "id": "3619a63b",
   "metadata": {},
   "source": [
    "A continuación se aplica la función UNNEST, la cual devuelve una tabla de resultados que incluye una fila para cada elemento de la matriz especificada (token). Si se han especificado varios argumentos de matriz común, el número de filas coincidirá con la matriz que tenga la cardinalidad más alta."
   ]
  },
  {
   "cell_type": "code",
   "execution_count": 11,
   "id": "fa95984e",
   "metadata": {},
   "outputs": [
    {
     "data": {
      "text/html": [
       "<div>\n",
       "<style scoped>\n",
       "    .dataframe tbody tr th:only-of-type {\n",
       "        vertical-align: middle;\n",
       "    }\n",
       "\n",
       "    .dataframe tbody tr th {\n",
       "        vertical-align: top;\n",
       "    }\n",
       "\n",
       "    .dataframe thead th {\n",
       "        text-align: right;\n",
       "    }\n",
       "</style>\n",
       "<table border=\"1\" class=\"dataframe\">\n",
       "  <thead>\n",
       "    <tr style=\"text-align: right;\">\n",
       "      <th></th>\n",
       "      <th>_id</th>\n",
       "      <th>user_id</th>\n",
       "      <th>username</th>\n",
       "      <th>location</th>\n",
       "      <th>coordinates</th>\n",
       "      <th>fecha_creacion</th>\n",
       "      <th>idioma</th>\n",
       "      <th>sentimiento</th>\n",
       "      <th>retweeted</th>\n",
       "      <th>tema</th>\n",
       "      <th>token</th>\n",
       "    </tr>\n",
       "  </thead>\n",
       "  <tbody>\n",
       "    <tr>\n",
       "      <th>0</th>\n",
       "      <td>60912d50cf20bc8b0980961f</td>\n",
       "      <td>1185404921950007297</td>\n",
       "      <td>Augusto</td>\n",
       "      <td>Monterrey, Nuevo León</td>\n",
       "      <td>None</td>\n",
       "      <td>2021-05-04 11:17:30</td>\n",
       "      <td>es</td>\n",
       "      <td></td>\n",
       "      <td>NaN</td>\n",
       "      <td>obeso</td>\n",
       "      <td>mi</td>\n",
       "    </tr>\n",
       "    <tr>\n",
       "      <th>0</th>\n",
       "      <td>60912d50cf20bc8b0980961f</td>\n",
       "      <td>1185404921950007297</td>\n",
       "      <td>Augusto</td>\n",
       "      <td>Monterrey, Nuevo León</td>\n",
       "      <td>None</td>\n",
       "      <td>2021-05-04 11:17:30</td>\n",
       "      <td>es</td>\n",
       "      <td></td>\n",
       "      <td>NaN</td>\n",
       "      <td>obeso</td>\n",
       "      <td>me</td>\n",
       "    </tr>\n",
       "    <tr>\n",
       "      <th>0</th>\n",
       "      <td>60912d50cf20bc8b0980961f</td>\n",
       "      <td>1185404921950007297</td>\n",
       "      <td>Augusto</td>\n",
       "      <td>Monterrey, Nuevo León</td>\n",
       "      <td>None</td>\n",
       "      <td>2021-05-04 11:17:30</td>\n",
       "      <td>es</td>\n",
       "      <td></td>\n",
       "      <td>NaN</td>\n",
       "      <td>obeso</td>\n",
       "      <td>vino</td>\n",
       "    </tr>\n",
       "    <tr>\n",
       "      <th>0</th>\n",
       "      <td>60912d50cf20bc8b0980961f</td>\n",
       "      <td>1185404921950007297</td>\n",
       "      <td>Augusto</td>\n",
       "      <td>Monterrey, Nuevo León</td>\n",
       "      <td>None</td>\n",
       "      <td>2021-05-04 11:17:30</td>\n",
       "      <td>es</td>\n",
       "      <td></td>\n",
       "      <td>NaN</td>\n",
       "      <td>obeso</td>\n",
       "      <td>ebrard</td>\n",
       "    </tr>\n",
       "    <tr>\n",
       "      <th>0</th>\n",
       "      <td>60912d50cf20bc8b0980961f</td>\n",
       "      <td>1185404921950007297</td>\n",
       "      <td>Augusto</td>\n",
       "      <td>Monterrey, Nuevo León</td>\n",
       "      <td>None</td>\n",
       "      <td>2021-05-04 11:17:30</td>\n",
       "      <td>es</td>\n",
       "      <td></td>\n",
       "      <td>NaN</td>\n",
       "      <td>obeso</td>\n",
       "      <td>nl</td>\n",
       "    </tr>\n",
       "  </tbody>\n",
       "</table>\n",
       "</div>"
      ],
      "text/plain": [
       "                        _id              user_id username  \\\n",
       "0  60912d50cf20bc8b0980961f  1185404921950007297  Augusto   \n",
       "0  60912d50cf20bc8b0980961f  1185404921950007297  Augusto   \n",
       "0  60912d50cf20bc8b0980961f  1185404921950007297  Augusto   \n",
       "0  60912d50cf20bc8b0980961f  1185404921950007297  Augusto   \n",
       "0  60912d50cf20bc8b0980961f  1185404921950007297  Augusto   \n",
       "\n",
       "                location coordinates      fecha_creacion idioma sentimiento  \\\n",
       "0  Monterrey, Nuevo León        None 2021-05-04 11:17:30     es               \n",
       "0  Monterrey, Nuevo León        None 2021-05-04 11:17:30     es               \n",
       "0  Monterrey, Nuevo León        None 2021-05-04 11:17:30     es               \n",
       "0  Monterrey, Nuevo León        None 2021-05-04 11:17:30     es               \n",
       "0  Monterrey, Nuevo León        None 2021-05-04 11:17:30     es               \n",
       "\n",
       "  retweeted   tema   token  \n",
       "0       NaN  obeso      mi  \n",
       "0       NaN  obeso      me  \n",
       "0       NaN  obeso    vino  \n",
       "0       NaN  obeso  ebrard  \n",
       "0       NaN  obeso      nl  "
      ]
     },
     "execution_count": 11,
     "metadata": {},
     "output_type": "execute_result"
    }
   ],
   "source": [
    "# Unnest de la columna texto_tokenizado\n",
    "\n",
    "tweets_tidy = tweets.explode(column='texto_tokenizado')\n",
    "tweets_tidy = tweets_tidy.drop(columns='tweet')\n",
    "tweets_tidy = tweets_tidy.rename(columns={'texto_tokenizado':'token'})\n",
    "tweets_tidy.head()"
   ]
  },
  {
   "cell_type": "code",
   "execution_count": 12,
   "id": "d79c3159",
   "metadata": {},
   "outputs": [
    {
     "name": "stdout",
     "output_type": "stream",
     "text": [
      "--------------------------\n",
      "Palabras totales por tema\n",
      "--------------------------\n"
     ]
    },
    {
     "data": {
      "text/plain": [
       "tema\n",
       "obesa       12314\n",
       "obesidad    59570\n",
       "obeso       45962\n",
       "Name: token, dtype: int64"
      ]
     },
     "execution_count": 12,
     "metadata": {},
     "output_type": "execute_result"
    }
   ],
   "source": [
    "# Palabras totales utilizadas por cada temática\n",
    "\n",
    "print('--------------------------')\n",
    "print('Palabras totales por tema')\n",
    "print('--------------------------')\n",
    "tweets_tidy.groupby(by='tema')['token'].count()"
   ]
  },
  {
   "cell_type": "code",
   "execution_count": 13,
   "id": "01c5f664",
   "metadata": {},
   "outputs": [
    {
     "name": "stdout",
     "output_type": "stream",
     "text": [
      "----------------------------\n",
      "Palabras distintas por tema\n",
      "----------------------------\n"
     ]
    },
    {
     "data": {
      "text/plain": [
       "tema\n",
       "obesa       2911\n",
       "obesidad    6029\n",
       "obeso       5271\n",
       "Name: token, dtype: int64"
      ]
     },
     "execution_count": 13,
     "metadata": {},
     "output_type": "execute_result"
    }
   ],
   "source": [
    "# Palabras que son distintas utilizadas por cada temática\n",
    "\n",
    "print('----------------------------')\n",
    "print('Palabras distintas por tema')\n",
    "print('----------------------------')\n",
    "tweets_tidy.groupby(by='tema')['token'].nunique()"
   ]
  },
  {
   "cell_type": "code",
   "execution_count": 14,
   "id": "264fbfe5",
   "metadata": {},
   "outputs": [
    {
     "data": {
      "text/html": [
       "<div>\n",
       "<style scoped>\n",
       "    .dataframe tbody tr th:only-of-type {\n",
       "        vertical-align: middle;\n",
       "    }\n",
       "\n",
       "    .dataframe tbody tr th {\n",
       "        vertical-align: top;\n",
       "    }\n",
       "\n",
       "    .dataframe thead th {\n",
       "        text-align: right;\n",
       "    }\n",
       "</style>\n",
       "<table border=\"1\" class=\"dataframe\">\n",
       "  <thead>\n",
       "    <tr style=\"text-align: right;\">\n",
       "      <th></th>\n",
       "      <th></th>\n",
       "      <th>tema</th>\n",
       "      <th>token</th>\n",
       "      <th>count</th>\n",
       "    </tr>\n",
       "    <tr>\n",
       "      <th>tema</th>\n",
       "      <th></th>\n",
       "      <th></th>\n",
       "      <th></th>\n",
       "      <th></th>\n",
       "    </tr>\n",
       "  </thead>\n",
       "  <tbody>\n",
       "    <tr>\n",
       "      <th rowspan=\"5\" valign=\"top\">obesa</th>\n",
       "      <th>1799</th>\n",
       "      <td>obesa</td>\n",
       "      <td>obesa</td>\n",
       "      <td>756</td>\n",
       "    </tr>\n",
       "    <tr>\n",
       "      <th>625</th>\n",
       "      <td>obesa</td>\n",
       "      <td>de</td>\n",
       "      <td>505</td>\n",
       "    </tr>\n",
       "    <tr>\n",
       "      <th>2171</th>\n",
       "      <td>obesa</td>\n",
       "      <td>que</td>\n",
       "      <td>423</td>\n",
       "    </tr>\n",
       "    <tr>\n",
       "      <th>1399</th>\n",
       "      <td>obesa</td>\n",
       "      <td>la</td>\n",
       "      <td>388</td>\n",
       "    </tr>\n",
       "    <tr>\n",
       "      <th>1773</th>\n",
       "      <td>obesa</td>\n",
       "      <td>no</td>\n",
       "      <td>292</td>\n",
       "    </tr>\n",
       "    <tr>\n",
       "      <th rowspan=\"5\" valign=\"top\">obesidad</th>\n",
       "      <th>6752</th>\n",
       "      <td>obesidad</td>\n",
       "      <td>obesidad</td>\n",
       "      <td>3657</td>\n",
       "    </tr>\n",
       "    <tr>\n",
       "      <th>4317</th>\n",
       "      <td>obesidad</td>\n",
       "      <td>de</td>\n",
       "      <td>3566</td>\n",
       "    </tr>\n",
       "    <tr>\n",
       "      <th>5986</th>\n",
       "      <td>obesidad</td>\n",
       "      <td>la</td>\n",
       "      <td>2916</td>\n",
       "    </tr>\n",
       "    <tr>\n",
       "      <th>7757</th>\n",
       "      <td>obesidad</td>\n",
       "      <td>rt</td>\n",
       "      <td>2017</td>\n",
       "    </tr>\n",
       "    <tr>\n",
       "      <th>7482</th>\n",
       "      <td>obesidad</td>\n",
       "      <td>que</td>\n",
       "      <td>1661</td>\n",
       "    </tr>\n",
       "    <tr>\n",
       "      <th rowspan=\"5\" valign=\"top\">obeso</th>\n",
       "      <th>12233</th>\n",
       "      <td>obeso</td>\n",
       "      <td>obeso</td>\n",
       "      <td>2399</td>\n",
       "    </tr>\n",
       "    <tr>\n",
       "      <th>12932</th>\n",
       "      <td>obeso</td>\n",
       "      <td>que</td>\n",
       "      <td>1803</td>\n",
       "    </tr>\n",
       "    <tr>\n",
       "      <th>10131</th>\n",
       "      <td>obeso</td>\n",
       "      <td>de</td>\n",
       "      <td>1524</td>\n",
       "    </tr>\n",
       "    <tr>\n",
       "      <th>13197</th>\n",
       "      <td>obeso</td>\n",
       "      <td>rt</td>\n",
       "      <td>1468</td>\n",
       "    </tr>\n",
       "    <tr>\n",
       "      <th>10488</th>\n",
       "      <td>obeso</td>\n",
       "      <td>el</td>\n",
       "      <td>1176</td>\n",
       "    </tr>\n",
       "  </tbody>\n",
       "</table>\n",
       "</div>"
      ],
      "text/plain": [
       "                    tema     token  count\n",
       "tema                                     \n",
       "obesa    1799      obesa     obesa    756\n",
       "         625       obesa        de    505\n",
       "         2171      obesa       que    423\n",
       "         1399      obesa        la    388\n",
       "         1773      obesa        no    292\n",
       "obesidad 6752   obesidad  obesidad   3657\n",
       "         4317   obesidad        de   3566\n",
       "         5986   obesidad        la   2916\n",
       "         7757   obesidad        rt   2017\n",
       "         7482   obesidad       que   1661\n",
       "obeso    12233     obeso     obeso   2399\n",
       "         12932     obeso       que   1803\n",
       "         10131     obeso        de   1524\n",
       "         13197     obeso        rt   1468\n",
       "         10488     obeso        el   1176"
      ]
     },
     "execution_count": 14,
     "metadata": {},
     "output_type": "execute_result"
    }
   ],
   "source": [
    "# Top 5 palabras más utilizadas por cada temática\n",
    "\n",
    "tweets_tidy.groupby(['tema','token'])['token'] \\\n",
    " .count() \\\n",
    " .reset_index(name='count') \\\n",
    " .groupby('tema') \\\n",
    " .apply(lambda x: x.sort_values('count', ascending=False).head(5))"
   ]
  },
  {
   "cell_type": "markdown",
   "id": "9dde091f",
   "metadata": {},
   "source": [
    "Como podemos observar aún forman parte de los textos las stopwords, por lo cual en los próximos comandos las eliminaremos"
   ]
  },
  {
   "cell_type": "code",
   "execution_count": 15,
   "id": "2b3d92ae",
   "metadata": {},
   "outputs": [
    {
     "name": "stdout",
     "output_type": "stream",
     "text": [
      "['de', 'la', 'que', 'el', 'en', 'y', 'a', 'los', 'del', 'se']\n"
     ]
    }
   ],
   "source": [
    "# Obtención de listado de stopwords del español\n",
    "\n",
    "from nltk.corpus import stopwords\n",
    "stop_words = list(stopwords.words('spanish'))\n",
    "# Se añade la stoprword: rt al igual que las palabras semilla\n",
    "stop_words.extend(('rt','obeso','obesa', 'obesidad', 'si', 'así', 'cali', 'vista', 'cañas'))\n",
    "print(stop_words[:10])"
   ]
  },
  {
   "cell_type": "code",
   "execution_count": 16,
   "id": "8597f582",
   "metadata": {},
   "outputs": [],
   "source": [
    "# Se realiza un filtrado para excluir stopwords\n",
    "tweets_tidy = tweets_tidy[~(tweets_tidy[\"token\"].isin(stop_words))]"
   ]
  },
  {
   "cell_type": "code",
   "execution_count": 17,
   "id": "777511b6",
   "metadata": {},
   "outputs": [
    {
     "data": {
      "image/png": "[encoded data removed]",
      "text/plain": [
       "<Figure size 576x720 with 3 Axes>"
      ]
     },
     "metadata": {
      "needs_background": "light"
     },
     "output_type": "display_data"
    }
   ],
   "source": [
    "# Top 10 palabras por temática (sin stopwords)\n",
    "\n",
    "fig, axs = plt.subplots(nrows=3, ncols=1,figsize=(8, 10))\n",
    "for i, tema in enumerate(tweets_tidy.tema.unique()):\n",
    "    df_temp = tweets_tidy[tweets_tidy.tema == tema]\n",
    "    counts  = df_temp['token'].value_counts(ascending=False).head(10)\n",
    "    counts.plot(kind='barh', color='firebrick', ax=axs[i])\n",
    "    axs[i].invert_yaxis()\n",
    "    axs[i].set_title(tema)\n",
    "\n",
    "fig.tight_layout()"
   ]
  },
  {
   "cell_type": "markdown",
   "id": "14c331f3",
   "metadata": {},
   "source": [
    "### TOP 10 palabras\n",
    "\n",
    "#### OBESO: obesos, decirle, hermoso, river, quieras, penales, pusiste, picame, cardona, perdono.\n",
    "\n",
    "Entre las palabras más frecuentemente utilizadas en los tweets donde se contenía la palabra obeso se puede observar que aparece la palabra obesos (plural), siendo una flexión de la palabra semilla. El resto de las palabras, contrario a como era de esperarse, no guardan ningún tipo de relación con la palabra semilla. Existen algunas hipótesis en relación al subconjunto \"river, penales, cardona\" que serán abordados en el apartado de \"Conclusiones/datos curiosos\", sin embargo para el resto no se encuentra explicación acorde.\n",
    "\n",
    "#### OBESA: obesas, persona, gorda, puede, sobrepeso, estudio, yerba, niveles, aumentar, mate.\n",
    "\n",
    "#### OBESIDAD: diabetes, problema, personas, trata, covid, salud, pandemia, mórbida, riesgo, mayor.\n",
    "\n",
    "Entre las palabras más frecuentes utilizadas en tweets donde se contenía la palabra obesa y obesidad observamos la palabra persona, gorda, sobrepeso, niveles, estudio, diabetes, problema, covid, salud, pandemia, mórbida y riesgo, las cuales están más relacionadas desde un ámbito de la salud en relación a la temática."
   ]
  },
  {
   "cell_type": "markdown",
   "id": "cb99c7fc",
   "metadata": {},
   "source": [
    " \n",
    "Estas palabras son interesantes de analizar e indagar el por qué son frecuentemente utilizadas en tweets donde también se habla de obesidad, obeso y obesa. Sin embargo, es a partir de estos resultados que podemos explicar el por qué esta técnica de \"Term Frequency\" no es la más adecuada para obtener keywords que nos permitan recolectar tweets relacionados a la temática de obesidad. Nuestras principales conclusiones serán profundizadas en el apartado c) conclusiones.\n"
   ]
  }
 ],
 "metadata": {
  "kernelspec": {
   "display_name": "Python 3",
   "language": "python",
   "name": "python3"
  },
  "language_info": {
   "codemirror_mode": {
    "name": "ipython",
    "version": 3
   },
   "file_extension": ".py",
   "mimetype": "text/x-python",
   "name": "python",
   "nbconvert_exporter": "python",
   "pygments_lexer": "ipython3",
   "version": "3.7.10"
  }
 },
 "nbformat": 4,
 "nbformat_minor": 5
}
